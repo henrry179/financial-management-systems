{
 "cells": [
  {
   "cell_type": "markdown",
   "id": "636e506b",
   "metadata": {},
   "source": [
    "### 安装包的地方"
   ]
  },
  {
   "cell_type": "code",
   "execution_count": null,
   "id": "a5b9c5f7",
   "metadata": {},
   "outputs": [],
   "source": []
  }
 ],
 "metadata": {
  "kernelspec": {
   "display_name": "Python 3",
   "language": "python",
   "name": "python3"
  },
  "language_info": {
   "name": "python",
   "version": "3.13.7"
  }
 },
 "nbformat": 4,
 "nbformat_minor": 5
}
